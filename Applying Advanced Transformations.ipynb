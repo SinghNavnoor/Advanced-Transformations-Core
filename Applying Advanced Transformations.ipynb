{
 "cells": [
  {
   "cell_type": "code",
   "execution_count": 4,
   "id": "1d3b01fb",
   "metadata": {},
   "outputs": [],
   "source": [
    "import numpy as np\n",
    "import pandas as pd\n",
    "import matplotlib.pyplot as plt\n",
    "import seaborn as sns\n",
    "## Importing the OS and JSON Modules\n",
    "import os,json\n"
   ]
  },
  {
   "cell_type": "code",
   "execution_count": 1,
   "id": "d9903c06",
   "metadata": {},
   "outputs": [],
   "source": [
    "import pandas as pd\n",
    "df_super_info = pd.read_csv('Data/superhero_info - superhero_info.csv')\n",
    "\n",
    "df_super_powers = pd.read_csv('Data/superhero_powers - superhero_powers.csv')"
   ]
  },
  {
   "cell_type": "code",
   "execution_count": 2,
   "id": "01a52e47",
   "metadata": {
    "scrolled": true
   },
   "outputs": [
    {
     "data": {
      "text/html": [
       "<div>\n",
       "<style scoped>\n",
       "    .dataframe tbody tr th:only-of-type {\n",
       "        vertical-align: middle;\n",
       "    }\n",
       "\n",
       "    .dataframe tbody tr th {\n",
       "        vertical-align: top;\n",
       "    }\n",
       "\n",
       "    .dataframe thead th {\n",
       "        text-align: right;\n",
       "    }\n",
       "</style>\n",
       "<table border=\"1\" class=\"dataframe\">\n",
       "  <thead>\n",
       "    <tr style=\"text-align: right;\">\n",
       "      <th></th>\n",
       "      <th>Hero|Publisher</th>\n",
       "      <th>Gender</th>\n",
       "      <th>Race</th>\n",
       "      <th>Alignment</th>\n",
       "      <th>Hair color</th>\n",
       "      <th>Eye color</th>\n",
       "      <th>Skin color</th>\n",
       "      <th>Measurements</th>\n",
       "    </tr>\n",
       "  </thead>\n",
       "  <tbody>\n",
       "    <tr>\n",
       "      <th>0</th>\n",
       "      <td>A-Bomb|Marvel Comics</td>\n",
       "      <td>Male</td>\n",
       "      <td>Human</td>\n",
       "      <td>good</td>\n",
       "      <td>No Hair</td>\n",
       "      <td>yellow</td>\n",
       "      <td>Unknown</td>\n",
       "      <td>{'Height': '203.0 cm', 'Weight': '441.0 kg'}</td>\n",
       "    </tr>\n",
       "    <tr>\n",
       "      <th>1</th>\n",
       "      <td>Abe Sapien|Dark Horse Comics</td>\n",
       "      <td>Male</td>\n",
       "      <td>Icthyo Sapien</td>\n",
       "      <td>good</td>\n",
       "      <td>No Hair</td>\n",
       "      <td>blue</td>\n",
       "      <td>blue</td>\n",
       "      <td>{'Height': '191.0 cm', 'Weight': '65.0 kg'}</td>\n",
       "    </tr>\n",
       "    <tr>\n",
       "      <th>2</th>\n",
       "      <td>Abin Sur|DC Comics</td>\n",
       "      <td>Male</td>\n",
       "      <td>Ungaran</td>\n",
       "      <td>good</td>\n",
       "      <td>No Hair</td>\n",
       "      <td>blue</td>\n",
       "      <td>red</td>\n",
       "      <td>{'Height': '185.0 cm', 'Weight': '90.0 kg'}</td>\n",
       "    </tr>\n",
       "    <tr>\n",
       "      <th>3</th>\n",
       "      <td>Abomination|Marvel Comics</td>\n",
       "      <td>Male</td>\n",
       "      <td>Human / Radiation</td>\n",
       "      <td>bad</td>\n",
       "      <td>No Hair</td>\n",
       "      <td>green</td>\n",
       "      <td>Unknown</td>\n",
       "      <td>{'Height': '203.0 cm', 'Weight': '441.0 kg'}</td>\n",
       "    </tr>\n",
       "    <tr>\n",
       "      <th>4</th>\n",
       "      <td>Absorbing Man|Marvel Comics</td>\n",
       "      <td>Male</td>\n",
       "      <td>Human</td>\n",
       "      <td>bad</td>\n",
       "      <td>No Hair</td>\n",
       "      <td>blue</td>\n",
       "      <td>Unknown</td>\n",
       "      <td>{'Height': '193.0 cm', 'Weight': '122.0 kg'}</td>\n",
       "    </tr>\n",
       "  </tbody>\n",
       "</table>\n",
       "</div>"
      ],
      "text/plain": [
       "                 Hero|Publisher Gender               Race Alignment  \\\n",
       "0          A-Bomb|Marvel Comics   Male              Human      good   \n",
       "1  Abe Sapien|Dark Horse Comics   Male      Icthyo Sapien      good   \n",
       "2            Abin Sur|DC Comics   Male            Ungaran      good   \n",
       "3     Abomination|Marvel Comics   Male  Human / Radiation       bad   \n",
       "4   Absorbing Man|Marvel Comics   Male              Human       bad   \n",
       "\n",
       "  Hair color Eye color Skin color  \\\n",
       "0    No Hair    yellow    Unknown   \n",
       "1    No Hair      blue       blue   \n",
       "2    No Hair      blue        red   \n",
       "3    No Hair     green    Unknown   \n",
       "4    No Hair      blue    Unknown   \n",
       "\n",
       "                                   Measurements  \n",
       "0  {'Height': '203.0 cm', 'Weight': '441.0 kg'}  \n",
       "1   {'Height': '191.0 cm', 'Weight': '65.0 kg'}  \n",
       "2   {'Height': '185.0 cm', 'Weight': '90.0 kg'}  \n",
       "3  {'Height': '203.0 cm', 'Weight': '441.0 kg'}  \n",
       "4  {'Height': '193.0 cm', 'Weight': '122.0 kg'}  "
      ]
     },
     "execution_count": 2,
     "metadata": {},
     "output_type": "execute_result"
    }
   ],
   "source": [
    "df_super_info.head()"
   ]
  },
  {
   "cell_type": "code",
   "execution_count": 3,
   "id": "32931555",
   "metadata": {},
   "outputs": [
    {
     "data": {
      "text/html": [
       "<div>\n",
       "<style scoped>\n",
       "    .dataframe tbody tr th:only-of-type {\n",
       "        vertical-align: middle;\n",
       "    }\n",
       "\n",
       "    .dataframe tbody tr th {\n",
       "        vertical-align: top;\n",
       "    }\n",
       "\n",
       "    .dataframe thead th {\n",
       "        text-align: right;\n",
       "    }\n",
       "</style>\n",
       "<table border=\"1\" class=\"dataframe\">\n",
       "  <thead>\n",
       "    <tr style=\"text-align: right;\">\n",
       "      <th></th>\n",
       "      <th>hero_names</th>\n",
       "      <th>Powers</th>\n",
       "    </tr>\n",
       "  </thead>\n",
       "  <tbody>\n",
       "    <tr>\n",
       "      <th>0</th>\n",
       "      <td>3-D Man</td>\n",
       "      <td>Agility,Super Strength,Stamina,Super Speed</td>\n",
       "    </tr>\n",
       "    <tr>\n",
       "      <th>1</th>\n",
       "      <td>A-Bomb</td>\n",
       "      <td>Accelerated Healing,Durability,Longevity,Super...</td>\n",
       "    </tr>\n",
       "    <tr>\n",
       "      <th>2</th>\n",
       "      <td>Abe Sapien</td>\n",
       "      <td>Agility,Accelerated Healing,Cold Resistance,Du...</td>\n",
       "    </tr>\n",
       "    <tr>\n",
       "      <th>3</th>\n",
       "      <td>Abin Sur</td>\n",
       "      <td>Lantern Power Ring</td>\n",
       "    </tr>\n",
       "    <tr>\n",
       "      <th>4</th>\n",
       "      <td>Abomination</td>\n",
       "      <td>Accelerated Healing,Intelligence,Super Strengt...</td>\n",
       "    </tr>\n",
       "  </tbody>\n",
       "</table>\n",
       "</div>"
      ],
      "text/plain": [
       "    hero_names                                             Powers\n",
       "0      3-D Man         Agility,Super Strength,Stamina,Super Speed\n",
       "1       A-Bomb  Accelerated Healing,Durability,Longevity,Super...\n",
       "2   Abe Sapien  Agility,Accelerated Healing,Cold Resistance,Du...\n",
       "3     Abin Sur                                 Lantern Power Ring\n",
       "4  Abomination  Accelerated Healing,Intelligence,Super Strengt..."
      ]
     },
     "execution_count": 3,
     "metadata": {},
     "output_type": "execute_result"
    }
   ],
   "source": [
    "df_super_powers.head()"
   ]
  },
  {
   "cell_type": "markdown",
   "id": "bb6aa5cd",
   "metadata": {},
   "source": [
    "### Separating the Hero|Publisher column into two. "
   ]
  },
  {
   "cell_type": "code",
   "execution_count": 7,
   "id": "d1d756a7",
   "metadata": {},
   "outputs": [
    {
     "data": {
      "text/html": [
       "<div>\n",
       "<style scoped>\n",
       "    .dataframe tbody tr th:only-of-type {\n",
       "        vertical-align: middle;\n",
       "    }\n",
       "\n",
       "    .dataframe tbody tr th {\n",
       "        vertical-align: top;\n",
       "    }\n",
       "\n",
       "    .dataframe thead th {\n",
       "        text-align: right;\n",
       "    }\n",
       "</style>\n",
       "<table border=\"1\" class=\"dataframe\">\n",
       "  <thead>\n",
       "    <tr style=\"text-align: right;\">\n",
       "      <th></th>\n",
       "      <th>0</th>\n",
       "      <th>1</th>\n",
       "    </tr>\n",
       "  </thead>\n",
       "  <tbody>\n",
       "    <tr>\n",
       "      <th>0</th>\n",
       "      <td>A-Bomb</td>\n",
       "      <td>Marvel Comics</td>\n",
       "    </tr>\n",
       "    <tr>\n",
       "      <th>1</th>\n",
       "      <td>Abe Sapien</td>\n",
       "      <td>Dark Horse Comics</td>\n",
       "    </tr>\n",
       "    <tr>\n",
       "      <th>2</th>\n",
       "      <td>Abin Sur</td>\n",
       "      <td>DC Comics</td>\n",
       "    </tr>\n",
       "    <tr>\n",
       "      <th>3</th>\n",
       "      <td>Abomination</td>\n",
       "      <td>Marvel Comics</td>\n",
       "    </tr>\n",
       "    <tr>\n",
       "      <th>4</th>\n",
       "      <td>Absorbing Man</td>\n",
       "      <td>Marvel Comics</td>\n",
       "    </tr>\n",
       "    <tr>\n",
       "      <th>...</th>\n",
       "      <td>...</td>\n",
       "      <td>...</td>\n",
       "    </tr>\n",
       "    <tr>\n",
       "      <th>458</th>\n",
       "      <td>Yellowjacket</td>\n",
       "      <td>Marvel Comics</td>\n",
       "    </tr>\n",
       "    <tr>\n",
       "      <th>459</th>\n",
       "      <td>Yellowjacket II</td>\n",
       "      <td>Marvel Comics</td>\n",
       "    </tr>\n",
       "    <tr>\n",
       "      <th>460</th>\n",
       "      <td>Yoda</td>\n",
       "      <td>George Lucas</td>\n",
       "    </tr>\n",
       "    <tr>\n",
       "      <th>461</th>\n",
       "      <td>Zatanna</td>\n",
       "      <td>DC Comics</td>\n",
       "    </tr>\n",
       "    <tr>\n",
       "      <th>462</th>\n",
       "      <td>Zoom</td>\n",
       "      <td>DC Comics</td>\n",
       "    </tr>\n",
       "  </tbody>\n",
       "</table>\n",
       "<p>463 rows × 2 columns</p>\n",
       "</div>"
      ],
      "text/plain": [
       "                   0                  1\n",
       "0             A-Bomb      Marvel Comics\n",
       "1         Abe Sapien  Dark Horse Comics\n",
       "2           Abin Sur          DC Comics\n",
       "3        Abomination      Marvel Comics\n",
       "4      Absorbing Man      Marvel Comics\n",
       "..               ...                ...\n",
       "458     Yellowjacket      Marvel Comics\n",
       "459  Yellowjacket II      Marvel Comics\n",
       "460             Yoda       George Lucas\n",
       "461          Zatanna          DC Comics\n",
       "462             Zoom          DC Comics\n",
       "\n",
       "[463 rows x 2 columns]"
      ]
     },
     "execution_count": 7,
     "metadata": {},
     "output_type": "execute_result"
    }
   ],
   "source": [
    "df_super_info['Hero|Publisher'].str.split('|', expand = True)"
   ]
  },
  {
   "cell_type": "code",
   "execution_count": 8,
   "id": "ca3880bb",
   "metadata": {},
   "outputs": [
    {
     "data": {
      "text/html": [
       "<div>\n",
       "<style scoped>\n",
       "    .dataframe tbody tr th:only-of-type {\n",
       "        vertical-align: middle;\n",
       "    }\n",
       "\n",
       "    .dataframe tbody tr th {\n",
       "        vertical-align: top;\n",
       "    }\n",
       "\n",
       "    .dataframe thead th {\n",
       "        text-align: right;\n",
       "    }\n",
       "</style>\n",
       "<table border=\"1\" class=\"dataframe\">\n",
       "  <thead>\n",
       "    <tr style=\"text-align: right;\">\n",
       "      <th></th>\n",
       "      <th>Hero|Publisher</th>\n",
       "      <th>Gender</th>\n",
       "      <th>Race</th>\n",
       "      <th>Alignment</th>\n",
       "      <th>Hair color</th>\n",
       "      <th>Eye color</th>\n",
       "      <th>Skin color</th>\n",
       "      <th>Measurements</th>\n",
       "      <th>Hero</th>\n",
       "      <th>Publisher</th>\n",
       "    </tr>\n",
       "  </thead>\n",
       "  <tbody>\n",
       "    <tr>\n",
       "      <th>0</th>\n",
       "      <td>A-Bomb|Marvel Comics</td>\n",
       "      <td>Male</td>\n",
       "      <td>Human</td>\n",
       "      <td>good</td>\n",
       "      <td>No Hair</td>\n",
       "      <td>yellow</td>\n",
       "      <td>Unknown</td>\n",
       "      <td>{'Height': '203.0 cm', 'Weight': '441.0 kg'}</td>\n",
       "      <td>A-Bomb</td>\n",
       "      <td>Marvel Comics</td>\n",
       "    </tr>\n",
       "    <tr>\n",
       "      <th>1</th>\n",
       "      <td>Abe Sapien|Dark Horse Comics</td>\n",
       "      <td>Male</td>\n",
       "      <td>Icthyo Sapien</td>\n",
       "      <td>good</td>\n",
       "      <td>No Hair</td>\n",
       "      <td>blue</td>\n",
       "      <td>blue</td>\n",
       "      <td>{'Height': '191.0 cm', 'Weight': '65.0 kg'}</td>\n",
       "      <td>Abe Sapien</td>\n",
       "      <td>Dark Horse Comics</td>\n",
       "    </tr>\n",
       "  </tbody>\n",
       "</table>\n",
       "</div>"
      ],
      "text/plain": [
       "                 Hero|Publisher Gender           Race Alignment Hair color  \\\n",
       "0          A-Bomb|Marvel Comics   Male          Human      good    No Hair   \n",
       "1  Abe Sapien|Dark Horse Comics   Male  Icthyo Sapien      good    No Hair   \n",
       "\n",
       "  Eye color Skin color                                  Measurements  \\\n",
       "0    yellow    Unknown  {'Height': '203.0 cm', 'Weight': '441.0 kg'}   \n",
       "1      blue       blue   {'Height': '191.0 cm', 'Weight': '65.0 kg'}   \n",
       "\n",
       "         Hero          Publisher  \n",
       "0      A-Bomb      Marvel Comics  \n",
       "1  Abe Sapien  Dark Horse Comics  "
      ]
     },
     "execution_count": 8,
     "metadata": {},
     "output_type": "execute_result"
    }
   ],
   "source": [
    "df_super_info.head(2)"
   ]
  },
  {
   "cell_type": "code",
   "execution_count": 9,
   "id": "0671f6de",
   "metadata": {},
   "outputs": [
    {
     "data": {
      "text/html": [
       "<div>\n",
       "<style scoped>\n",
       "    .dataframe tbody tr th:only-of-type {\n",
       "        vertical-align: middle;\n",
       "    }\n",
       "\n",
       "    .dataframe tbody tr th {\n",
       "        vertical-align: top;\n",
       "    }\n",
       "\n",
       "    .dataframe thead th {\n",
       "        text-align: right;\n",
       "    }\n",
       "</style>\n",
       "<table border=\"1\" class=\"dataframe\">\n",
       "  <thead>\n",
       "    <tr style=\"text-align: right;\">\n",
       "      <th></th>\n",
       "      <th>Gender</th>\n",
       "      <th>Race</th>\n",
       "      <th>Alignment</th>\n",
       "      <th>Hair color</th>\n",
       "      <th>Eye color</th>\n",
       "      <th>Skin color</th>\n",
       "      <th>Measurements</th>\n",
       "      <th>Hero</th>\n",
       "      <th>Publisher</th>\n",
       "    </tr>\n",
       "  </thead>\n",
       "  <tbody>\n",
       "    <tr>\n",
       "      <th>0</th>\n",
       "      <td>Male</td>\n",
       "      <td>Human</td>\n",
       "      <td>good</td>\n",
       "      <td>No Hair</td>\n",
       "      <td>yellow</td>\n",
       "      <td>Unknown</td>\n",
       "      <td>{'Height': '203.0 cm', 'Weight': '441.0 kg'}</td>\n",
       "      <td>A-Bomb</td>\n",
       "      <td>Marvel Comics</td>\n",
       "    </tr>\n",
       "    <tr>\n",
       "      <th>1</th>\n",
       "      <td>Male</td>\n",
       "      <td>Icthyo Sapien</td>\n",
       "      <td>good</td>\n",
       "      <td>No Hair</td>\n",
       "      <td>blue</td>\n",
       "      <td>blue</td>\n",
       "      <td>{'Height': '191.0 cm', 'Weight': '65.0 kg'}</td>\n",
       "      <td>Abe Sapien</td>\n",
       "      <td>Dark Horse Comics</td>\n",
       "    </tr>\n",
       "  </tbody>\n",
       "</table>\n",
       "</div>"
      ],
      "text/plain": [
       "  Gender           Race Alignment Hair color Eye color Skin color  \\\n",
       "0   Male          Human      good    No Hair    yellow    Unknown   \n",
       "1   Male  Icthyo Sapien      good    No Hair      blue       blue   \n",
       "\n",
       "                                   Measurements        Hero          Publisher  \n",
       "0  {'Height': '203.0 cm', 'Weight': '441.0 kg'}      A-Bomb      Marvel Comics  \n",
       "1   {'Height': '191.0 cm', 'Weight': '65.0 kg'}  Abe Sapien  Dark Horse Comics  "
      ]
     },
     "execution_count": 9,
     "metadata": {},
     "output_type": "execute_result"
    }
   ],
   "source": [
    "df_super_info = df_super_info.drop(columns = 'Hero|Publisher')\n",
    "\n",
    "df_super_info.head(2)"
   ]
  },
  {
   "cell_type": "markdown",
   "id": "76c859fe",
   "metadata": {},
   "source": [
    "### Creating two new columns out of Measurement: i.e. Height and Weight"
   ]
  },
  {
   "cell_type": "code",
   "execution_count": 10,
   "id": "08351c55",
   "metadata": {},
   "outputs": [
    {
     "name": "stdout",
     "output_type": "stream",
     "text": [
      "<class 'str'>\n"
     ]
    },
    {
     "data": {
      "text/plain": [
       "\"{'Height': '203.0 cm', 'Weight': '441.0 kg'}\""
      ]
     },
     "execution_count": 10,
     "metadata": {},
     "output_type": "execute_result"
    }
   ],
   "source": [
    "## examining a single value from the coordinates col\n",
    "measurment = df_super_info.loc[0,\"Measurements\"]\n",
    "print(type(measurment))\n",
    "measurment"
   ]
  },
  {
   "cell_type": "code",
   "execution_count": 12,
   "id": "73810678",
   "metadata": {},
   "outputs": [
    {
     "data": {
      "text/plain": [
       "'{\"Height\": \"203.0 cm\", \"Weight\": \"441.0 kg\"}'"
      ]
     },
     "execution_count": 12,
     "metadata": {},
     "output_type": "execute_result"
    }
   ],
   "source": [
    "measurment = measurment.replace(\"'\",'\"')\n",
    "measurment"
   ]
  },
  {
   "cell_type": "code",
   "execution_count": 15,
   "id": "23f98385",
   "metadata": {},
   "outputs": [
    {
     "ename": "TypeError",
     "evalue": "the JSON object must be str, bytes or bytearray, not dict",
     "output_type": "error",
     "traceback": [
      "\u001b[0;31m---------------------------------------------------------------------------\u001b[0m",
      "\u001b[0;31mTypeError\u001b[0m                                 Traceback (most recent call last)",
      "Cell \u001b[0;32mIn [15], line 1\u001b[0m\n\u001b[0;32m----> 1\u001b[0m fixed_measurment \u001b[38;5;241m=\u001b[39m \u001b[43mjson\u001b[49m\u001b[38;5;241;43m.\u001b[39;49m\u001b[43mloads\u001b[49m\u001b[43m(\u001b[49m\u001b[43mmeasurment\u001b[49m\u001b[43m)\u001b[49m\n\u001b[1;32m      2\u001b[0m \u001b[38;5;28mprint\u001b[39m(\u001b[38;5;28mtype\u001b[39m(fixed_measurment))\n\u001b[1;32m      3\u001b[0m fixed_measurment\n",
      "File \u001b[0;32m/opt/homebrew/Caskroom/miniforge/base/envs/dojo-env/lib/python3.9/json/__init__.py:339\u001b[0m, in \u001b[0;36mloads\u001b[0;34m(s, cls, object_hook, parse_float, parse_int, parse_constant, object_pairs_hook, **kw)\u001b[0m\n\u001b[1;32m    337\u001b[0m \u001b[38;5;28;01melse\u001b[39;00m:\n\u001b[1;32m    338\u001b[0m     \u001b[38;5;28;01mif\u001b[39;00m \u001b[38;5;129;01mnot\u001b[39;00m \u001b[38;5;28misinstance\u001b[39m(s, (\u001b[38;5;28mbytes\u001b[39m, \u001b[38;5;28mbytearray\u001b[39m)):\n\u001b[0;32m--> 339\u001b[0m         \u001b[38;5;28;01mraise\u001b[39;00m \u001b[38;5;167;01mTypeError\u001b[39;00m(\u001b[38;5;124mf\u001b[39m\u001b[38;5;124m'\u001b[39m\u001b[38;5;124mthe JSON object must be str, bytes or bytearray, \u001b[39m\u001b[38;5;124m'\u001b[39m\n\u001b[1;32m    340\u001b[0m                         \u001b[38;5;124mf\u001b[39m\u001b[38;5;124m'\u001b[39m\u001b[38;5;124mnot \u001b[39m\u001b[38;5;132;01m{\u001b[39;00ms\u001b[38;5;241m.\u001b[39m\u001b[38;5;18m__class__\u001b[39m\u001b[38;5;241m.\u001b[39m\u001b[38;5;18m__name__\u001b[39m\u001b[38;5;132;01m}\u001b[39;00m\u001b[38;5;124m'\u001b[39m)\n\u001b[1;32m    341\u001b[0m     s \u001b[38;5;241m=\u001b[39m s\u001b[38;5;241m.\u001b[39mdecode(detect_encoding(s), \u001b[38;5;124m'\u001b[39m\u001b[38;5;124msurrogatepass\u001b[39m\u001b[38;5;124m'\u001b[39m)\n\u001b[1;32m    343\u001b[0m \u001b[38;5;28;01mif\u001b[39;00m (\u001b[38;5;28mcls\u001b[39m \u001b[38;5;129;01mis\u001b[39;00m \u001b[38;5;28;01mNone\u001b[39;00m \u001b[38;5;129;01mand\u001b[39;00m object_hook \u001b[38;5;129;01mis\u001b[39;00m \u001b[38;5;28;01mNone\u001b[39;00m \u001b[38;5;129;01mand\u001b[39;00m\n\u001b[1;32m    344\u001b[0m         parse_int \u001b[38;5;129;01mis\u001b[39;00m \u001b[38;5;28;01mNone\u001b[39;00m \u001b[38;5;129;01mand\u001b[39;00m parse_float \u001b[38;5;129;01mis\u001b[39;00m \u001b[38;5;28;01mNone\u001b[39;00m \u001b[38;5;129;01mand\u001b[39;00m\n\u001b[1;32m    345\u001b[0m         parse_constant \u001b[38;5;129;01mis\u001b[39;00m \u001b[38;5;28;01mNone\u001b[39;00m \u001b[38;5;129;01mand\u001b[39;00m object_pairs_hook \u001b[38;5;129;01mis\u001b[39;00m \u001b[38;5;28;01mNone\u001b[39;00m \u001b[38;5;129;01mand\u001b[39;00m \u001b[38;5;129;01mnot\u001b[39;00m kw):\n",
      "\u001b[0;31mTypeError\u001b[0m: the JSON object must be str, bytes or bytearray, not dict"
     ]
    }
   ],
   "source": [
    "fixed_measurment = json.loads(measurment)\n",
    "print(type(fixed_measurment))\n",
    "fixed_measurment"
   ]
  },
  {
   "cell_type": "code",
   "execution_count": null,
   "id": "9b4ce82b",
   "metadata": {},
   "outputs": [],
   "source": []
  }
 ],
 "metadata": {
  "kernelspec": {
   "display_name": "Python (dojo-env)",
   "language": "python",
   "name": "dojo-env"
  },
  "language_info": {
   "codemirror_mode": {
    "name": "ipython",
    "version": 3
   },
   "file_extension": ".py",
   "mimetype": "text/x-python",
   "name": "python",
   "nbconvert_exporter": "python",
   "pygments_lexer": "ipython3",
   "version": "3.9.15"
  },
  "toc": {
   "base_numbering": 1,
   "nav_menu": {},
   "number_sections": true,
   "sideBar": true,
   "skip_h1_title": false,
   "title_cell": "Table of Contents",
   "title_sidebar": "Contents",
   "toc_cell": false,
   "toc_position": {},
   "toc_section_display": true,
   "toc_window_display": false
  }
 },
 "nbformat": 4,
 "nbformat_minor": 5
}
